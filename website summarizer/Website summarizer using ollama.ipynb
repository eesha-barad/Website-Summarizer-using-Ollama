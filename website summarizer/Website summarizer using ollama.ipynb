{
 "cells": [
  {
   "cell_type": "code",
   "execution_count": 1,
   "id": "0c3d3942-dbc3-4a78-a0e2-ef4f8e6a6b31",
   "metadata": {},
   "outputs": [],
   "source": [
    "import requests\n",
    "from bs4 import BeautifulSoup\n",
    "from IPython.display import Markdown, display"
   ]
  },
  {
   "cell_type": "code",
   "execution_count": 2,
   "id": "0a98d767-01df-4d82-b831-69af53d82ef3",
   "metadata": {},
   "outputs": [],
   "source": [
    "OLLAMA_API = \"http://localhost:11434/api/chat\"\n",
    "HEADERS = {\"Content-Type\": \"application/json\"}\n",
    "MODEL = \"llama3.2\""
   ]
  },
  {
   "cell_type": "code",
   "execution_count": 3,
   "id": "3ca6e589-ebc4-484d-9c8f-a2049c1df192",
   "metadata": {},
   "outputs": [],
   "source": [
    "# A class to represent a Webpage\n",
    "# Some websites need you to use proper headers when fetching them:\n",
    "headers = {\n",
    "    \"User-Agent\": \"Mozilla/5.0 (Windows NT 10.0; Win64; x64) AppleWebKit/537.36 (KHTML, like Gecko) Chrome/117.0.0.0 Safari/537.36\"\n",
    "}\n",
    "\n",
    "class Website:\n",
    "    def __init__(self, url):\n",
    "        \"\"\"\n",
    "        Create this Website object from the given url using the BeautifulSoup library\n",
    "        \"\"\"\n",
    "        self.url = url\n",
    "        response = requests.get(url, headers=headers)\n",
    "        soup = BeautifulSoup(response.content, \"html.parser\")\n",
    "        self.title = soup.title.string if soup.title else \"No title found\"\n",
    "        for irrelevant in soup.body([\"script\", \"style\", \"img\", \"input\"]):\n",
    "            irrelevant.decompose()\n",
    "        self.text = soup.body.get_text(separator=\"\\n\", strip=True)"
   ]
  },
  {
   "cell_type": "code",
   "execution_count": 4,
   "id": "bb4f23aa-0cb5-45a1-a8c5-e0a326c6100a",
   "metadata": {},
   "outputs": [],
   "source": [
    "# Define our system prompt\n",
    "system_prompt = (\n",
    "    \"You are an assistant that analyzes the contents of a website \"\n",
    "    \"and provides a short summary, ignoring text that might be navigation related. \"\n",
    "    \"Respond in markdown.\"\n",
    ")"
   ]
  },
  {
   "cell_type": "code",
   "execution_count": 5,
   "id": "99011851-9a2e-4c92-8f83-e2ac41d2e897",
   "metadata": {},
   "outputs": [],
   "source": [
    "# A function that writes a User Prompt that asks for summaries of websites:\n",
    "def user_prompt_for(website):\n",
    "    user_prompt = f\"You are looking at a website titled {website.title}.\\n\"\n",
    "    user_prompt += (\n",
    "        \"The contents of this website are as follows; \"\n",
    "        \"please provide a short summary of this website in markdown. \"\n",
    "        \"If it includes news or announcements, then summarize these too.\\n\\n\"\n",
    "    )\n",
    "    user_prompt += website.text\n",
    "    return user_prompt"
   ]
  },
  {
   "cell_type": "code",
   "execution_count": 6,
   "id": "eb9a16ac-78f1-4aea-9d7f-e674b9759768",
   "metadata": {},
   "outputs": [],
   "source": [
    "# A function to format the messages for Ollama\n",
    "def messages_for(website):\n",
    "    return [\n",
    "        {\"role\": \"system\", \"content\": system_prompt},\n",
    "        {\"role\": \"user\", \"content\": user_prompt_for(website)}\n",
    "    ]\n"
   ]
  },
  {
   "cell_type": "code",
   "execution_count": 10,
   "id": "4478ff09-ddf4-4ffa-b316-ae0b8e28d593",
   "metadata": {},
   "outputs": [],
   "source": [
    "# Function to summarize a website using Ollama\n",
    "def summarize(url):\n",
    "    website = Website(url)\n",
    "    payload = {\n",
    "        \"model\": MODEL,\n",
    "        \"messages\": messages_for(website),\n",
    "        \"stream\": False\n",
    "    }\n",
    "    response = requests.post(OLLAMA_API, json=payload, headers=HEADERS)\n",
    "\n",
    "    # Debug: Print the raw response for verification\n",
    "    try:\n",
    "        response_data = response.json()\n",
    "        print(\"Raw API Response:\", response_data)  # Debugging line\n",
    "    except Exception as e:\n",
    "        print(\"Error parsing JSON:\", e)\n",
    "        print(\"Raw Response Text:\", response.text)\n",
    "        return \"Failed to parse response.\"\n",
    "\n",
    "    # Access the nested 'content' key\n",
    "    try:\n",
    "        summary = response_data[\"message\"][\"content\"]\n",
    "        # Clean the summary by removing mentions of navigation or ignored content\n",
    "        lines = summary.split(\"\\n\")\n",
    "        cleaned_summary = \"\\n\".join(\n",
    "            line for line in lines if \"navigation menu\" not in line.lower() and \"ignored for this analysis\" not in line.lower()\n",
    "        )\n",
    "        return cleaned_summary.strip()\n",
    "    except KeyError:\n",
    "        error_message = response_data.get(\"error\", \"Unknown error occurred.\")\n",
    "        return f\"API Error: {error_message}\""
   ]
  },
  {
   "cell_type": "code",
   "execution_count": 11,
   "id": "ea4551ea-1a2b-463b-89bb-bdbca6b829ab",
   "metadata": {},
   "outputs": [],
   "source": [
    "# Function to display the summary in markdown\n",
    "def display_summary(url):\n",
    "    summary = summarize(url)\n",
    "    display(Markdown(summary))"
   ]
  },
  {
   "cell_type": "code",
   "execution_count": 13,
   "id": "4ca9c34c-e070-4a00-9527-e6b04bb5aa5e",
   "metadata": {},
   "outputs": [
    {
     "name": "stdout",
     "output_type": "stream",
     "text": [
      "Raw API Response: {'model': 'llama3.2', 'created_at': '2024-12-18T09:44:02.0839403Z', 'message': {'role': 'assistant', 'content': 'According to the article, a Freed prisoner who said he was a victim of the Assad regime was an intelligence officer, locals say.'}, 'done_reason': 'stop', 'done': True, 'total_duration': 119274829600, 'load_duration': 52876800, 'prompt_eval_count': 2048, 'prompt_eval_duration': 116156000000, 'eval_count': 27, 'eval_duration': 3051000000}\n"
     ]
    },
    {
     "data": {
      "text/markdown": [
       "According to the article, a Freed prisoner who said he was a victim of the Assad regime was an intelligence officer, locals say."
      ],
      "text/plain": [
       "<IPython.core.display.Markdown object>"
      ]
     },
     "metadata": {},
     "output_type": "display_data"
    }
   ],
   "source": [
    "# Example usage\n",
    "ed = Website(\"https://edition.cnn.com/\")\n",
    "display_summary(\"https://edition.cnn.com/\")"
   ]
  },
  {
   "cell_type": "code",
   "execution_count": null,
   "id": "a1614663-dd62-41e6-b04f-29c6a96ff6b6",
   "metadata": {},
   "outputs": [],
   "source": []
  }
 ],
 "metadata": {
  "kernelspec": {
   "display_name": "Python 3 (ipykernel)",
   "language": "python",
   "name": "python3"
  },
  "language_info": {
   "codemirror_mode": {
    "name": "ipython",
    "version": 3
   },
   "file_extension": ".py",
   "mimetype": "text/x-python",
   "name": "python",
   "nbconvert_exporter": "python",
   "pygments_lexer": "ipython3",
   "version": "3.11.11"
  }
 },
 "nbformat": 4,
 "nbformat_minor": 5
}
